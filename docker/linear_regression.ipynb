{
 "cells": [
  {
   "cell_type": "code",
   "execution_count": 11,
   "metadata": {},
   "outputs": [],
   "source": [
    "import pandas as pd\n",
    "import numpy as np\n",
    "from sklearn.linear_model import LinearRegression\n",
    "import joblib"
   ]
  },
  {
   "cell_type": "code",
   "execution_count": 2,
   "metadata": {},
   "outputs": [],
   "source": [
    "df=pd.read_csv('Linear_regression_dataset.csv',header='infer')"
   ]
  },
  {
   "cell_type": "code",
   "execution_count": 4,
   "metadata": {},
   "outputs": [
    {
     "data": {
      "text/html": [
       "<div>\n",
       "<style scoped>\n",
       "    .dataframe tbody tr th:only-of-type {\n",
       "        vertical-align: middle;\n",
       "    }\n",
       "\n",
       "    .dataframe tbody tr th {\n",
       "        vertical-align: top;\n",
       "    }\n",
       "\n",
       "    .dataframe thead th {\n",
       "        text-align: right;\n",
       "    }\n",
       "</style>\n",
       "<table border=\"1\" class=\"dataframe\">\n",
       "  <thead>\n",
       "    <tr style=\"text-align: right;\">\n",
       "      <th></th>\n",
       "      <th>var_1</th>\n",
       "      <th>var_2</th>\n",
       "      <th>var_3</th>\n",
       "      <th>var_4</th>\n",
       "      <th>var_5</th>\n",
       "      <th>output</th>\n",
       "    </tr>\n",
       "  </thead>\n",
       "  <tbody>\n",
       "    <tr>\n",
       "      <th>752</th>\n",
       "      <td>673</td>\n",
       "      <td>686</td>\n",
       "      <td>84</td>\n",
       "      <td>0.317</td>\n",
       "      <td>0.268</td>\n",
       "      <td>0.399</td>\n",
       "    </tr>\n",
       "    <tr>\n",
       "      <th>571</th>\n",
       "      <td>665</td>\n",
       "      <td>565</td>\n",
       "      <td>93</td>\n",
       "      <td>0.326</td>\n",
       "      <td>0.253</td>\n",
       "      <td>0.359</td>\n",
       "    </tr>\n",
       "    <tr>\n",
       "      <th>644</th>\n",
       "      <td>641</td>\n",
       "      <td>596</td>\n",
       "      <td>87</td>\n",
       "      <td>0.309</td>\n",
       "      <td>0.246</td>\n",
       "      <td>0.368</td>\n",
       "    </tr>\n",
       "    <tr>\n",
       "      <th>57</th>\n",
       "      <td>855</td>\n",
       "      <td>677</td>\n",
       "      <td>96</td>\n",
       "      <td>0.340</td>\n",
       "      <td>0.283</td>\n",
       "      <td>0.460</td>\n",
       "    </tr>\n",
       "    <tr>\n",
       "      <th>222</th>\n",
       "      <td>701</td>\n",
       "      <td>935</td>\n",
       "      <td>56</td>\n",
       "      <td>0.320</td>\n",
       "      <td>0.263</td>\n",
       "      <td>0.396</td>\n",
       "    </tr>\n",
       "    <tr>\n",
       "      <th>720</th>\n",
       "      <td>686</td>\n",
       "      <td>729</td>\n",
       "      <td>77</td>\n",
       "      <td>0.324</td>\n",
       "      <td>0.254</td>\n",
       "      <td>0.390</td>\n",
       "    </tr>\n",
       "    <tr>\n",
       "      <th>938</th>\n",
       "      <td>531</td>\n",
       "      <td>734</td>\n",
       "      <td>55</td>\n",
       "      <td>0.291</td>\n",
       "      <td>0.235</td>\n",
       "      <td>0.340</td>\n",
       "    </tr>\n",
       "    <tr>\n",
       "      <th>511</th>\n",
       "      <td>776</td>\n",
       "      <td>664</td>\n",
       "      <td>94</td>\n",
       "      <td>0.338</td>\n",
       "      <td>0.265</td>\n",
       "      <td>0.411</td>\n",
       "    </tr>\n",
       "    <tr>\n",
       "      <th>500</th>\n",
       "      <td>771</td>\n",
       "      <td>682</td>\n",
       "      <td>91</td>\n",
       "      <td>0.338</td>\n",
       "      <td>0.265</td>\n",
       "      <td>0.402</td>\n",
       "    </tr>\n",
       "    <tr>\n",
       "      <th>658</th>\n",
       "      <td>594</td>\n",
       "      <td>583</td>\n",
       "      <td>83</td>\n",
       "      <td>0.310</td>\n",
       "      <td>0.247</td>\n",
       "      <td>0.351</td>\n",
       "    </tr>\n",
       "  </tbody>\n",
       "</table>\n",
       "</div>"
      ],
      "text/plain": [
       "     var_1  var_2  var_3  var_4  var_5  output\n",
       "752    673    686     84  0.317  0.268   0.399\n",
       "571    665    565     93  0.326  0.253   0.359\n",
       "644    641    596     87  0.309  0.246   0.368\n",
       "57     855    677     96  0.340  0.283   0.460\n",
       "222    701    935     56  0.320  0.263   0.396\n",
       "720    686    729     77  0.324  0.254   0.390\n",
       "938    531    734     55  0.291  0.235   0.340\n",
       "511    776    664     94  0.338  0.265   0.411\n",
       "500    771    682     91  0.338  0.265   0.402\n",
       "658    594    583     83  0.310  0.247   0.351"
      ]
     },
     "execution_count": 4,
     "metadata": {},
     "output_type": "execute_result"
    }
   ],
   "source": [
    "df.sample(10)"
   ]
  },
  {
   "cell_type": "code",
   "execution_count": 6,
   "metadata": {},
   "outputs": [],
   "source": [
    "#create X ( input variables with all columns except for outout/target column )\n",
    "X=df.loc[:,df.columns !='output']"
   ]
  },
  {
   "cell_type": "code",
   "execution_count": 7,
   "metadata": {},
   "outputs": [],
   "source": [
    "#create the y data with only output column\n",
    "y=df['output']"
   ]
  },
  {
   "cell_type": "code",
   "execution_count": 8,
   "metadata": {},
   "outputs": [],
   "source": [
    "#Train the Linear Regression model on training dataset\n",
    "lr = LinearRegression().fit(X, y)"
   ]
  },
  {
   "cell_type": "code",
   "execution_count": 9,
   "metadata": {},
   "outputs": [
    {
     "data": {
      "text/plain": [
       "0.8692670151914198"
      ]
     },
     "execution_count": 9,
     "metadata": {},
     "output_type": "execute_result"
    }
   ],
   "source": [
    "lr.score(X,y)"
   ]
  },
  {
   "cell_type": "code",
   "execution_count": 12,
   "metadata": {},
   "outputs": [
    {
     "data": {
      "text/plain": [
       "['flask_app/linear_regression_model.pkl']"
      ]
     },
     "execution_count": 12,
     "metadata": {},
     "output_type": "execute_result"
    }
   ],
   "source": [
    "joblib.dump(lr,'linear_regression_model.pkl')"
   ]
  },
  {
   "cell_type": "code",
   "execution_count": 13,
   "metadata": {},
   "outputs": [],
   "source": [
    "test_data=[600,588,90,0.358,0.333]"
   ]
  },
  {
   "cell_type": "code",
   "execution_count": 14,
   "metadata": {},
   "outputs": [
    {
     "name": "stdout",
     "output_type": "stream",
     "text": [
      "[6.00e+02 5.88e+02 9.00e+01 3.58e-01 3.33e-01]\n",
      "[[6.00e+02 5.88e+02 9.00e+01 3.58e-01 3.33e-01]]\n",
      "[0.36901871]\n"
     ]
    }
   ],
   "source": [
    "pred_arr=np.array(test_data)\n",
    "print(pred_arr)\n",
    "preds=pred_arr.reshape(1,-1)\n",
    "print(preds)\n",
    "model=open(\"linear_regression_model.pkl\",\"rb\")\n",
    "lr_model=joblib.load(model)\n",
    "model_prediction=lr_model.predict(preds)\n",
    "print(model_prediction)"
   ]
  },
  {
   "cell_type": "code",
   "execution_count": null,
   "metadata": {
    "collapsed": true
   },
   "outputs": [],
   "source": []
  }
 ],
 "metadata": {
  "kernelspec": {
   "display_name": "Python 3",
   "language": "python",
   "name": "python3"
  },
  "language_info": {
   "codemirror_mode": {
    "name": "ipython",
    "version": 3
   },
   "file_extension": ".py",
   "mimetype": "text/x-python",
   "name": "python",
   "nbconvert_exporter": "python",
   "pygments_lexer": "ipython3",
   "version": "3.7.3"
  }
 },
 "nbformat": 4,
 "nbformat_minor": 2
}
